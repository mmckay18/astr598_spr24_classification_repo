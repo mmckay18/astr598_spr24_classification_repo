{
 "cells": [
  {
   "cell_type": "code",
   "execution_count": 1,
   "metadata": {},
   "outputs": [],
   "source": [
    "from astroML.datasets import fetch_imaging_sample\n",
    "import numpy as np\n",
    "import matplotlib.pyplot as plt\n",
    "import seaborn as sns\n",
    "import pandas as pd\n",
    "\n",
    "import matplotlib as mpl\n",
    "from matplotlib import cm\n",
    "\n",
    "import matplotlib as mpl\n",
    "from matplotlib import pyplot as plt\n",
    "from matplotlib import cm\n",
    "\n",
    "from sklearn.tree import DecisionTreeClassifier, plot_tree\n",
    "from sklearn.ensemble import RandomForestClassifier\n",
    "from sklearn.svm import SVC\n",
    "from sklearn.metrics import recall_score, precision_score, ConfusionMatrixDisplay, PrecisionRecallDisplay, RocCurveDisplay\n",
    "\n",
    "from astroML.datasets import fetch_rrlyrae_combined\n",
    "from astroML.utils import split_samples\n",
    "\n",
    "from scipy.stats import norm\n",
    "\n",
    "from sklearn.model_selection import train_test_split\n",
    "\n",
    "from sklearn.naive_bayes import GaussianNB\n",
    "from sklearn.discriminant_analysis import LinearDiscriminantAnalysis\n",
    "from sklearn.neighbors import KNeighborsClassifier\n",
    "from sklearn.metrics import recall_score, precision_score, ConfusionMatrixDisplay, PrecisionRecallDisplay, RocCurveDisplay\n",
    "\n",
    "from astroML.classification import GMMBayes\n",
    "from astroML.datasets import fetch_rrlyrae_combined\n",
    "from astroML.utils import split_samples"
   ]
  },
  {
   "cell_type": "markdown",
   "metadata": {},
   "source": [
    "# Section 1: Gussian Mixture Model"
   ]
  },
  {
   "cell_type": "markdown",
   "metadata": {},
   "source": [
    "## - develop 3 approaches for classifying time series\n",
    "### the initial approach should extract features from a time series (e.g. using cesium-ml) and apply a GMM classifier (you will need to define how you will classify a continuous function such as period). The classifier should be robust to changes in the phase of the time series"
   ]
  },
  {
   "cell_type": "markdown",
   "metadata": {},
   "source": [
    "### Read in time-series data"
   ]
  },
  {
   "cell_type": "code",
   "execution_count": 2,
   "metadata": {},
   "outputs": [],
   "source": [
    "!pip freeze > requirements.yml"
   ]
  },
  {
   "cell_type": "code",
   "execution_count": 3,
   "metadata": {},
   "outputs": [],
   "source": [
    "def plot_timeseries(df: pd.DataFrame, indx=0 ) -> None:\n",
    "    '''Plot the generated time series data.\n",
    "        Args:\n",
    "            df: Pandas DataFrame with the generated data\n",
    "            indx: index of the time series to plot\n",
    "        '''\n",
    "    df[f'y{indx}' ].plot(style='o')  \n",
    "\n",
    "    plt.show()"
   ]
  },
  {
   "cell_type": "code",
   "execution_count": 13,
   "metadata": {},
   "outputs": [
    {
     "data": {
      "image/png": "[encoded data removed]",
      "text/plain": [
       "<Figure size 640x480 with 1 Axes>"
      ]
     },
     "metadata": {},
     "output_type": "display_data"
    },
    {
     "name": "stdout",
     "output_type": "stream",
     "text": [
      "(50, 100000)\n"
     ]
    },
    {
     "data": {
      "text/html": [
       "<div>\n",
       "<style scoped>\n",
       "    .dataframe tbody tr th:only-of-type {\n",
       "        vertical-align: middle;\n",
       "    }\n",
       "\n",
       "    .dataframe tbody tr th {\n",
       "        vertical-align: top;\n",
       "    }\n",
       "\n",
       "    .dataframe thead th {\n",
       "        text-align: right;\n",
       "    }\n",
       "</style>\n",
       "<table border=\"1\" class=\"dataframe\">\n",
       "  <thead>\n",
       "    <tr style=\"text-align: right;\">\n",
       "      <th></th>\n",
       "      <th>y0</th>\n",
       "      <th>y1</th>\n",
       "      <th>y2</th>\n",
       "      <th>y3</th>\n",
       "      <th>y4</th>\n",
       "      <th>y5</th>\n",
       "      <th>y6</th>\n",
       "      <th>y7</th>\n",
       "      <th>y8</th>\n",
       "      <th>y9</th>\n",
       "      <th>...</th>\n",
       "      <th>y99990</th>\n",
       "      <th>y99991</th>\n",
       "      <th>y99992</th>\n",
       "      <th>y99993</th>\n",
       "      <th>y99994</th>\n",
       "      <th>y99995</th>\n",
       "      <th>y99996</th>\n",
       "      <th>y99997</th>\n",
       "      <th>y99998</th>\n",
       "      <th>y99999</th>\n",
       "    </tr>\n",
       "  </thead>\n",
       "  <tbody>\n",
       "    <tr>\n",
       "      <th>0.000000</th>\n",
       "      <td>-0.987242</td>\n",
       "      <td>-0.735776</td>\n",
       "      <td>-0.835780</td>\n",
       "      <td>0.368300</td>\n",
       "      <td>0.993337</td>\n",
       "      <td>0.607363</td>\n",
       "      <td>0.991060</td>\n",
       "      <td>0.913201</td>\n",
       "      <td>0.988297</td>\n",
       "      <td>-0.428671</td>\n",
       "      <td>...</td>\n",
       "      <td>-0.952394</td>\n",
       "      <td>-0.604454</td>\n",
       "      <td>-0.980924</td>\n",
       "      <td>-0.895995</td>\n",
       "      <td>0.947058</td>\n",
       "      <td>0.995710</td>\n",
       "      <td>0.072077</td>\n",
       "      <td>0.894138</td>\n",
       "      <td>-0.717289</td>\n",
       "      <td>-0.824622</td>\n",
       "    </tr>\n",
       "    <tr>\n",
       "      <th>2.040816</th>\n",
       "      <td>-0.886773</td>\n",
       "      <td>-0.484893</td>\n",
       "      <td>-0.966216</td>\n",
       "      <td>0.056579</td>\n",
       "      <td>0.906416</td>\n",
       "      <td>0.826751</td>\n",
       "      <td>0.982612</td>\n",
       "      <td>0.738269</td>\n",
       "      <td>0.986016</td>\n",
       "      <td>-0.122144</td>\n",
       "      <td>...</td>\n",
       "      <td>-0.999942</td>\n",
       "      <td>-0.322633</td>\n",
       "      <td>-0.869696</td>\n",
       "      <td>-0.710421</td>\n",
       "      <td>0.797642</td>\n",
       "      <td>0.915826</td>\n",
       "      <td>0.382694</td>\n",
       "      <td>0.707484</td>\n",
       "      <td>-0.461188</td>\n",
       "      <td>-0.960864</td>\n",
       "    </tr>\n",
       "    <tr>\n",
       "      <th>4.081633</th>\n",
       "      <td>-0.695953</td>\n",
       "      <td>-0.184606</td>\n",
       "      <td>-0.998207</td>\n",
       "      <td>-0.260906</td>\n",
       "      <td>0.727141</td>\n",
       "      <td>0.961903</td>\n",
       "      <td>0.874048</td>\n",
       "      <td>0.488116</td>\n",
       "      <td>0.883272</td>\n",
       "      <td>0.196827</td>\n",
       "      <td>...</td>\n",
       "      <td>-0.945608</td>\n",
       "      <td>-0.007939</td>\n",
       "      <td>-0.669857</td>\n",
       "      <td>-0.452464</td>\n",
       "      <td>0.566956</td>\n",
       "      <td>0.742629</td>\n",
       "      <td>0.654319</td>\n",
       "      <td>0.448745</td>\n",
       "      <td>-0.158096</td>\n",
       "      <td>-0.999205</td>\n",
       "    </tr>\n",
       "    <tr>\n",
       "      <th>6.122449</th>\n",
       "      <td>-0.434223</td>\n",
       "      <td>0.134491</td>\n",
       "      <td>-0.928491</td>\n",
       "      <td>-0.551809</td>\n",
       "      <td>0.473780</td>\n",
       "      <td>0.999047</td>\n",
       "      <td>0.676428</td>\n",
       "      <td>0.188229</td>\n",
       "      <td>0.690533</td>\n",
       "      <td>0.495744</td>\n",
       "      <td>...</td>\n",
       "      <td>-0.794927</td>\n",
       "      <td>0.307564</td>\n",
       "      <td>-0.401767</td>\n",
       "      <td>-0.148405</td>\n",
       "      <td>0.278503</td>\n",
       "      <td>0.493768</td>\n",
       "      <td>0.859276</td>\n",
       "      <td>0.144284</td>\n",
       "      <td>0.161103</td>\n",
       "      <td>-0.935738</td>\n",
       "    </tr>\n",
       "    <tr>\n",
       "      <th>8.163265</th>\n",
       "      <td>-0.128251</td>\n",
       "      <td>0.439885</td>\n",
       "      <td>-0.764173</td>\n",
       "      <td>-0.786488</td>\n",
       "      <td>0.172146</td>\n",
       "      <td>0.934401</td>\n",
       "      <td>0.409888</td>\n",
       "      <td>-0.130836</td>\n",
       "      <td>0.427436</td>\n",
       "      <td>0.744150</td>\n",
       "      <td>...</td>\n",
       "      <td>-0.563253</td>\n",
       "      <td>0.591730</td>\n",
       "      <td>-0.092741</td>\n",
       "      <td>0.170774</td>\n",
       "      <td>-0.038327</td>\n",
       "      <td>0.194597</td>\n",
       "      <td>0.976682</td>\n",
       "      <td>-0.174877</td>\n",
       "      <td>0.463888</td>\n",
       "      <td>-0.776931</td>\n",
       "    </tr>\n",
       "  </tbody>\n",
       "</table>\n",
       "<p>5 rows × 100000 columns</p>\n",
       "</div>"
      ],
      "text/plain": [
       "                y0        y1        y2        y3        y4        y5  \\\n",
       "0.000000 -0.987242 -0.735776 -0.835780  0.368300  0.993337  0.607363   \n",
       "2.040816 -0.886773 -0.484893 -0.966216  0.056579  0.906416  0.826751   \n",
       "4.081633 -0.695953 -0.184606 -0.998207 -0.260906  0.727141  0.961903   \n",
       "6.122449 -0.434223  0.134491 -0.928491 -0.551809  0.473780  0.999047   \n",
       "8.163265 -0.128251  0.439885 -0.764173 -0.786488  0.172146  0.934401   \n",
       "\n",
       "                y6        y7        y8        y9  ...    y99990    y99991  \\\n",
       "0.000000  0.991060  0.913201  0.988297 -0.428671  ... -0.952394 -0.604454   \n",
       "2.040816  0.982612  0.738269  0.986016 -0.122144  ... -0.999942 -0.322633   \n",
       "4.081633  0.874048  0.488116  0.883272  0.196827  ... -0.945608 -0.007939   \n",
       "6.122449  0.676428  0.188229  0.690533  0.495744  ... -0.794927  0.307564   \n",
       "8.163265  0.409888 -0.130836  0.427436  0.744150  ... -0.563253  0.591730   \n",
       "\n",
       "            y99992    y99993    y99994    y99995    y99996    y99997  \\\n",
       "0.000000 -0.980924 -0.895995  0.947058  0.995710  0.072077  0.894138   \n",
       "2.040816 -0.869696 -0.710421  0.797642  0.915826  0.382694  0.707484   \n",
       "4.081633 -0.669857 -0.452464  0.566956  0.742629  0.654319  0.448745   \n",
       "6.122449 -0.401767 -0.148405  0.278503  0.493768  0.859276  0.144284   \n",
       "8.163265 -0.092741  0.170774 -0.038327  0.194597  0.976682 -0.174877   \n",
       "\n",
       "            y99998    y99999  \n",
       "0.000000 -0.717289 -0.824622  \n",
       "2.040816 -0.461188 -0.960864  \n",
       "4.081633 -0.158096 -0.999205  \n",
       "6.122449  0.161103 -0.935738  \n",
       "8.163265  0.463888 -0.776931  \n",
       "\n",
       "[5 rows x 100000 columns]"
      ]
     },
     "execution_count": 13,
     "metadata": {},
     "output_type": "execute_result"
    }
   ],
   "source": [
    "# df_A = pd.read_csv('/home/jovyan/COURSE_MATERIALS/lectures/data/fieldA.csv')\n",
    "ts_single_freq_df = pd.read_feather('/Users/mmckay/Desktop/astr598_spr24_classification_repo/data/timeseries_single_frequency.feather')\n",
    "ts_single_freq_df.head()\n",
    "plot_timeseries(ts_single_freq_df, indx=10000)\n",
    "print(ts_single_freq_df.shape)\n",
    "ts_single_freq_df.head()"
   ]
  },
  {
   "cell_type": "code",
   "execution_count": 1,
   "metadata": {},
   "outputs": [],
   "source": [
    "# # df_A = pd.read_csv('/home/jovyan/COURSE_MATERIALS/lectures/data/fieldA.csv')\n",
    "# df_A = pd.read_feather('/Users/mmckay/Desktop/astr598_spr24_classification_repo/data/timeseries_multiple_frequency.feather')\n",
    "# df_A.head()\n",
    "# plot_timeseries(df_A, indx=10)"
   ]
  },
  {
   "cell_type": "code",
   "execution_count": 9,
   "metadata": {},
   "outputs": [],
   "source": [
    "# # df_A = pd.read_csv('/home/jovyan/COURSE_MATERIALS/lectures/data/fieldA.csv')\n",
    "# df_A = pd.read_feather('/Users/mmckay/Desktop/astr598_spr24_classification_repo/data/timeseries_multiple_frequency_sampled.feather')\n",
    "# df_A.head()\n",
    "# plot_timeseries(df_A, indx=10)"
   ]
  },
  {
   "cell_type": "markdown",
   "metadata": {},
   "source": [
    "### Read in periods from Tobin"
   ]
  },
  {
   "cell_type": "code",
   "execution_count": null,
   "metadata": {},
   "outputs": [],
   "source": []
  },
  {
   "cell_type": "markdown",
   "metadata": {},
   "source": [
    "### Part 1: Using cesium-ml to extract features"
   ]
  },
  {
   "cell_type": "code",
   "execution_count": 5,
   "metadata": {},
   "outputs": [
    {
     "data": {
      "text/html": [
       "<div>\n",
       "<style scoped>\n",
       "    .dataframe tbody tr th:only-of-type {\n",
       "        vertical-align: middle;\n",
       "    }\n",
       "\n",
       "    .dataframe tbody tr th {\n",
       "        vertical-align: top;\n",
       "    }\n",
       "\n",
       "    .dataframe thead tr th {\n",
       "        text-align: left;\n",
       "    }\n",
       "</style>\n",
       "<table border=\"1\" class=\"dataframe\">\n",
       "  <thead>\n",
       "    <tr>\n",
       "      <th>feature</th>\n",
       "      <th>amplitude</th>\n",
       "      <th>percent_beyond_1_std</th>\n",
       "      <th>maximum</th>\n",
       "      <th>max_slope</th>\n",
       "      <th>median</th>\n",
       "      <th>median_absolute_deviation</th>\n",
       "      <th>percent_close_to_median</th>\n",
       "      <th>minimum</th>\n",
       "      <th>skew</th>\n",
       "      <th>std</th>\n",
       "      <th>weighted_average</th>\n",
       "    </tr>\n",
       "    <tr>\n",
       "      <th>channel</th>\n",
       "      <th>0</th>\n",
       "      <th>0</th>\n",
       "      <th>0</th>\n",
       "      <th>0</th>\n",
       "      <th>0</th>\n",
       "      <th>0</th>\n",
       "      <th>0</th>\n",
       "      <th>0</th>\n",
       "      <th>0</th>\n",
       "      <th>0</th>\n",
       "      <th>0</th>\n",
       "    </tr>\n",
       "  </thead>\n",
       "  <tbody>\n",
       "    <tr>\n",
       "      <th>0</th>\n",
       "      <td>0.999236</td>\n",
       "      <td>0.5</td>\n",
       "      <td>0.99852</td>\n",
       "      <td>0.156401</td>\n",
       "      <td>0.03205</td>\n",
       "      <td>0.717286</td>\n",
       "      <td>0.12</td>\n",
       "      <td>-0.999953</td>\n",
       "      <td>-0.034345</td>\n",
       "      <td>0.713327</td>\n",
       "      <td>0.022469</td>\n",
       "    </tr>\n",
       "  </tbody>\n",
       "</table>\n",
       "</div>"
      ],
      "text/plain": [
       "feature amplitude percent_beyond_1_std  maximum max_slope   median  \\\n",
       "channel         0                    0        0         0        0   \n",
       "0        0.999236                  0.5  0.99852  0.156401  0.03205   \n",
       "\n",
       "feature median_absolute_deviation percent_close_to_median   minimum      skew  \\\n",
       "channel                         0                       0         0         0   \n",
       "0                        0.717286                    0.12 -0.999953 -0.034345   \n",
       "\n",
       "feature       std weighted_average  \n",
       "channel         0                0  \n",
       "0        0.713327         0.022469  "
      ]
     },
     "execution_count": 5,
     "metadata": {},
     "output_type": "execute_result"
    }
   ],
   "source": [
    "from cesium import featurize\n",
    "\n",
    "features_to_use = [\n",
    "    \"amplitude\",\n",
    "    \"percent_beyond_1_std\",\n",
    "    \"maximum\",\n",
    "    \"max_slope\",\n",
    "    \"median\",\n",
    "    \"median_absolute_deviation\",\n",
    "    \"percent_close_to_median\",\n",
    "    \"minimum\",\n",
    "    \"skew\",\n",
    "    \"std\",\n",
    "    \"weighted_average\",\n",
    "]\n",
    "fset_cesium = featurize.featurize_time_series(\n",
    "    times=np.array(ts_single_freq_df.index),\n",
    "    values=np.array(ts_single_freq_df['y10']),\n",
    "    errors=None,\n",
    "    features_to_use=features_to_use,\n",
    ")\n",
    "# print(fset_cesium.head())\n",
    "fset_cesium.head()"
   ]
  },
  {
   "cell_type": "markdown",
   "metadata": {},
   "source": [
    "### Gussian Mixture Model Bayes"
   ]
  },
  {
   "cell_type": "markdown",
   "metadata": {},
   "source": [
    "#### Data Split"
   ]
  },
  {
   "cell_type": "code",
   "execution_count": 11,
   "metadata": {},
   "outputs": [
    {
     "name": "stdout",
     "output_type": "stream",
     "text": [
      "Training set N=40, Shape:(40, 2)\n",
      "Testing set N=5, Shape:(5, 2) \n",
      "Validation set N=5, Shape:(5, 2)\n"
     ]
    }
   ],
   "source": [
    "# Data Split\n",
    "X = np.array(ts_single_freq_df[['y0', 'y1']])\n",
    "y = np.array(ts_single_freq_df['y99999'])\n",
    "\n",
    "# X_train, X_test, y_train, y_test = train_test_split(X, y, test_size=0.2, random_state=1)\n",
    "# X_train, X_valid, y_train, y_valid = train_test_split(X_train, y_train, test_size=0.25, random_state=1) # 0.25 x 0.8 = 0.2\n",
    "(X_train, X_valid, X_test), (y_train, y_valid, y_test) = split_samples(X, y, [0.8, 0.1, 0.1], random_state=0)\n",
    "print(f'Training set N={len(X_train)}, Shape:{X_train.shape}\\nTesting set N={len(X_test)}, Shape:{X_test.shape} \\nValidation set N={len(X_valid)}, Shape:{X_valid.shape}') "
   ]
  },
  {
   "cell_type": "code",
   "execution_count": 9,
   "metadata": {},
   "outputs": [
    {
     "data": {
      "text/plain": [
       "array([ 0.49751745,  0.97663851,  0.85917115, -0.99970633, -0.99920496,\n",
       "        0.19882993, -0.55207322,  0.9960997 , -0.9859033 , -0.77693102,\n",
       "        0.85106206,  0.36800576, -0.12011609,  0.64225301, -0.44091729,\n",
       "        0.07187357,  0.73499703, -0.30767566,  0.60436039,  0.74551367,\n",
       "        0.48388763,  0.91755062,  0.97315767,  0.18347564, -0.95641313,\n",
       "       -0.89018987, -0.81567243,  0.38250529,  0.91121869, -0.42682365,\n",
       "       -0.53896321, -0.13563041, -0.94114095,  0.82462191, -0.96086393,\n",
       "        0.99459763, -0.2612124 , -0.69004279, -0.24608125, -0.8829545 ])"
      ]
     },
     "execution_count": 9,
     "metadata": {},
     "output_type": "execute_result"
    }
   ],
   "source": [
    "y_train"
   ]
  },
  {
   "cell_type": "code",
   "execution_count": 10,
   "metadata": {},
   "outputs": [
    {
     "data": {
      "text/plain": [
       "array([[-9.87241830e-01, -7.35776045e-01],\n",
       "       [-8.86773469e-01, -4.84893341e-01],\n",
       "       [-6.95953083e-01, -1.84605580e-01],\n",
       "       [-4.34223078e-01,  1.34491368e-01],\n",
       "       [-1.28250732e-01,  4.39885192e-01],\n",
       "       [ 1.90788889e-01,  7.00459770e-01],\n",
       "       [ 4.90389316e-01,  8.89665550e-01],\n",
       "       [ 7.40024708e-01,  9.88224635e-01],\n",
       "       [ 9.14260088e-01,  9.86094989e-01],\n",
       "       [ 9.95342873e-01,  8.83493597e-01],\n",
       "       [ 9.75011660e-01,  6.90874363e-01],\n",
       "       [ 8.55337966e-01,  4.27862973e-01],\n",
       "       [ 6.48515165e-01,  1.21257263e-01],\n",
       "       [ 3.75616122e-01, -1.97703168e-01],\n",
       "       [ 6.44461135e-02, -4.96519919e-01],\n",
       "       [-2.53290213e-01, -7.44746997e-01],\n",
       "       [-5.45219178e-01, -9.17092916e-01],\n",
       "       [-7.81596576e-01, -9.95997608e-01],\n",
       "       [-9.38338266e-01, -9.73421592e-01],\n",
       "       [-9.99474072e-01, -8.51665104e-01],\n",
       "       [-9.58774959e-01, -6.43133731e-01],\n",
       "       [-8.20387697e-01, -3.69074423e-01],\n",
       "       [-5.98412358e-01, -5.74106736e-02],\n",
       "       [-3.15465678e-01,  2.60102564e-01],\n",
       "       [-3.76671992e-04,  5.51114339e-01],\n",
       "       [ 3.14750713e-01,  7.85973898e-01],\n",
       "       [ 5.97808618e-01,  9.40751751e-01],\n",
       "       [ 8.19956696e-01,  9.99677813e-01],\n",
       "       [ 9.58560611e-01,  9.56748197e-01],\n",
       "       [ 9.99498218e-01,  8.16336936e-01],\n",
       "       [ 9.38598445e-01,  5.92750324e-01],\n",
       "       [ 7.82066278e-01,  3.08769268e-01],\n",
       "       [ 5.45850547e-01, -6.67182838e-03],\n",
       "       [ 2.54018919e-01, -3.21433142e-01],\n",
       "       [-6.36943174e-02, -6.03444113e-01],\n",
       "       [-3.74917835e-01, -8.23971064e-01],\n",
       "       [-6.47941534e-01, -9.60544835e-01],\n",
       "       [-8.54947438e-01, -9.99250128e-01],\n",
       "       [-9.74844026e-01, -9.36143318e-01],\n",
       "       [-9.95415212e-01, -7.77654264e-01],\n",
       "       [-9.14565029e-01, -5.39931179e-01],\n",
       "       [-7.40531181e-01, -2.47195313e-01],\n",
       "       [-4.91045719e-01,  7.07269144e-02],\n",
       "       [-1.91528341e-01,  3.81442882e-01],\n",
       "       [ 1.27503573e-01,  6.53294205e-01],\n",
       "       [ 4.33544339e-01,  8.58582356e-01],\n",
       "       [ 6.95411919e-01,  9.76390835e-01],\n",
       "       [ 8.86425018e-01,  9.94716310e-01],\n",
       "       [ 9.87121597e-01,  9.11691626e-01],\n",
       "       [ 9.87241830e-01,  7.35776045e-01]])"
      ]
     },
     "execution_count": 10,
     "metadata": {},
     "output_type": "execute_result"
    }
   ],
   "source": [
    "X"
   ]
  },
  {
   "cell_type": "markdown",
   "metadata": {},
   "source": [
    "# Section 2: Convolutional Nural Network"
   ]
  },
  {
   "cell_type": "code",
   "execution_count": null,
   "metadata": {},
   "outputs": [],
   "source": []
  },
  {
   "cell_type": "code",
   "execution_count": null,
   "metadata": {},
   "outputs": [],
   "source": []
  },
  {
   "cell_type": "code",
   "execution_count": null,
   "metadata": {},
   "outputs": [],
   "source": []
  },
  {
   "cell_type": "code",
   "execution_count": null,
   "metadata": {},
   "outputs": [],
   "source": []
  },
  {
   "cell_type": "markdown",
   "metadata": {},
   "source": []
  },
  {
   "cell_type": "markdown",
   "metadata": {},
   "source": [
    "# Section 3: "
   ]
  },
  {
   "cell_type": "markdown",
   "metadata": {},
   "source": []
  }
 ],
 "metadata": {
  "kernelspec": {
   "display_name": "Python 3",
   "language": "python",
   "name": "python3"
  },
  "language_info": {
   "codemirror_mode": {
    "name": "ipython",
    "version": 3
   },
   "file_extension": ".py",
   "mimetype": "text/x-python",
   "name": "python",
   "nbconvert_exporter": "python",
   "pygments_lexer": "ipython3",
   "version": "3.10.2"
  }
 },
 "nbformat": 4,
 "nbformat_minor": 2
}
